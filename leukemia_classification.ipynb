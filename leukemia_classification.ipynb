{
 "cells": [
  {
   "cell_type": "markdown",
   "id": "qpkeGnNlbIyQ",
   "metadata": {
    "id": "qpkeGnNlbIyQ"
   },
   "source": [
    "#Setup"
   ]
  },
  {
   "cell_type": "code",
   "execution_count": 6,
   "id": "rpg24swmbIgN",
   "metadata": {
    "colab": {
     "base_uri": "https://localhost:8080/",
     "height": 107
    },
    "id": "rpg24swmbIgN",
    "outputId": "b50fc255-92a8-454a-810d-a67457bc54fe"
   },
   "outputs": [
    {
     "data": {
      "text/html": [
       "\n",
       "     <input type=\"file\" id=\"files-335769be-b287-45f6-9191-9b77b2b70594\" name=\"files[]\" multiple disabled\n",
       "        style=\"border:none\" />\n",
       "     <output id=\"result-335769be-b287-45f6-9191-9b77b2b70594\">\n",
       "      Upload widget is only available when the cell has been executed in the\n",
       "      current browser session. Please rerun this cell to enable.\n",
       "      </output>\n",
       "      <script>// Copyright 2017 Google LLC\n",
       "//\n",
       "// Licensed under the Apache License, Version 2.0 (the \"License\");\n",
       "// you may not use this file except in compliance with the License.\n",
       "// You may obtain a copy of the License at\n",
       "//\n",
       "//      http://www.apache.org/licenses/LICENSE-2.0\n",
       "//\n",
       "// Unless required by applicable law or agreed to in writing, software\n",
       "// distributed under the License is distributed on an \"AS IS\" BASIS,\n",
       "// WITHOUT WARRANTIES OR CONDITIONS OF ANY KIND, either express or implied.\n",
       "// See the License for the specific language governing permissions and\n",
       "// limitations under the License.\n",
       "\n",
       "/**\n",
       " * @fileoverview Helpers for google.colab Python module.\n",
       " */\n",
       "(function(scope) {\n",
       "function span(text, styleAttributes = {}) {\n",
       "  const element = document.createElement('span');\n",
       "  element.textContent = text;\n",
       "  for (const key of Object.keys(styleAttributes)) {\n",
       "    element.style[key] = styleAttributes[key];\n",
       "  }\n",
       "  return element;\n",
       "}\n",
       "\n",
       "// Max number of bytes which will be uploaded at a time.\n",
       "const MAX_PAYLOAD_SIZE = 100 * 1024;\n",
       "\n",
       "function _uploadFiles(inputId, outputId) {\n",
       "  const steps = uploadFilesStep(inputId, outputId);\n",
       "  const outputElement = document.getElementById(outputId);\n",
       "  // Cache steps on the outputElement to make it available for the next call\n",
       "  // to uploadFilesContinue from Python.\n",
       "  outputElement.steps = steps;\n",
       "\n",
       "  return _uploadFilesContinue(outputId);\n",
       "}\n",
       "\n",
       "// This is roughly an async generator (not supported in the browser yet),\n",
       "// where there are multiple asynchronous steps and the Python side is going\n",
       "// to poll for completion of each step.\n",
       "// This uses a Promise to block the python side on completion of each step,\n",
       "// then passes the result of the previous step as the input to the next step.\n",
       "function _uploadFilesContinue(outputId) {\n",
       "  const outputElement = document.getElementById(outputId);\n",
       "  const steps = outputElement.steps;\n",
       "\n",
       "  const next = steps.next(outputElement.lastPromiseValue);\n",
       "  return Promise.resolve(next.value.promise).then((value) => {\n",
       "    // Cache the last promise value to make it available to the next\n",
       "    // step of the generator.\n",
       "    outputElement.lastPromiseValue = value;\n",
       "    return next.value.response;\n",
       "  });\n",
       "}\n",
       "\n",
       "/**\n",
       " * Generator function which is called between each async step of the upload\n",
       " * process.\n",
       " * @param {string} inputId Element ID of the input file picker element.\n",
       " * @param {string} outputId Element ID of the output display.\n",
       " * @return {!Iterable<!Object>} Iterable of next steps.\n",
       " */\n",
       "function* uploadFilesStep(inputId, outputId) {\n",
       "  const inputElement = document.getElementById(inputId);\n",
       "  inputElement.disabled = false;\n",
       "\n",
       "  const outputElement = document.getElementById(outputId);\n",
       "  outputElement.innerHTML = '';\n",
       "\n",
       "  const pickedPromise = new Promise((resolve) => {\n",
       "    inputElement.addEventListener('change', (e) => {\n",
       "      resolve(e.target.files);\n",
       "    });\n",
       "  });\n",
       "\n",
       "  const cancel = document.createElement('button');\n",
       "  inputElement.parentElement.appendChild(cancel);\n",
       "  cancel.textContent = 'Cancel upload';\n",
       "  const cancelPromise = new Promise((resolve) => {\n",
       "    cancel.onclick = () => {\n",
       "      resolve(null);\n",
       "    };\n",
       "  });\n",
       "\n",
       "  // Wait for the user to pick the files.\n",
       "  const files = yield {\n",
       "    promise: Promise.race([pickedPromise, cancelPromise]),\n",
       "    response: {\n",
       "      action: 'starting',\n",
       "    }\n",
       "  };\n",
       "\n",
       "  cancel.remove();\n",
       "\n",
       "  // Disable the input element since further picks are not allowed.\n",
       "  inputElement.disabled = true;\n",
       "\n",
       "  if (!files) {\n",
       "    return {\n",
       "      response: {\n",
       "        action: 'complete',\n",
       "      }\n",
       "    };\n",
       "  }\n",
       "\n",
       "  for (const file of files) {\n",
       "    const li = document.createElement('li');\n",
       "    li.append(span(file.name, {fontWeight: 'bold'}));\n",
       "    li.append(span(\n",
       "        `(${file.type || 'n/a'}) - ${file.size} bytes, ` +\n",
       "        `last modified: ${\n",
       "            file.lastModifiedDate ? file.lastModifiedDate.toLocaleDateString() :\n",
       "                                    'n/a'} - `));\n",
       "    const percent = span('0% done');\n",
       "    li.appendChild(percent);\n",
       "\n",
       "    outputElement.appendChild(li);\n",
       "\n",
       "    const fileDataPromise = new Promise((resolve) => {\n",
       "      const reader = new FileReader();\n",
       "      reader.onload = (e) => {\n",
       "        resolve(e.target.result);\n",
       "      };\n",
       "      reader.readAsArrayBuffer(file);\n",
       "    });\n",
       "    // Wait for the data to be ready.\n",
       "    let fileData = yield {\n",
       "      promise: fileDataPromise,\n",
       "      response: {\n",
       "        action: 'continue',\n",
       "      }\n",
       "    };\n",
       "\n",
       "    // Use a chunked sending to avoid message size limits. See b/62115660.\n",
       "    let position = 0;\n",
       "    do {\n",
       "      const length = Math.min(fileData.byteLength - position, MAX_PAYLOAD_SIZE);\n",
       "      const chunk = new Uint8Array(fileData, position, length);\n",
       "      position += length;\n",
       "\n",
       "      const base64 = btoa(String.fromCharCode.apply(null, chunk));\n",
       "      yield {\n",
       "        response: {\n",
       "          action: 'append',\n",
       "          file: file.name,\n",
       "          data: base64,\n",
       "        },\n",
       "      };\n",
       "\n",
       "      let percentDone = fileData.byteLength === 0 ?\n",
       "          100 :\n",
       "          Math.round((position / fileData.byteLength) * 100);\n",
       "      percent.textContent = `${percentDone}% done`;\n",
       "\n",
       "    } while (position < fileData.byteLength);\n",
       "  }\n",
       "\n",
       "  // All done.\n",
       "  yield {\n",
       "    response: {\n",
       "      action: 'complete',\n",
       "    }\n",
       "  };\n",
       "}\n",
       "\n",
       "scope.google = scope.google || {};\n",
       "scope.google.colab = scope.google.colab || {};\n",
       "scope.google.colab._files = {\n",
       "  _uploadFiles,\n",
       "  _uploadFilesContinue,\n",
       "};\n",
       "})(self);\n",
       "</script> "
      ],
      "text/plain": [
       "<IPython.core.display.HTML object>"
      ]
     },
     "metadata": {},
     "output_type": "display_data"
    },
    {
     "name": "stdout",
     "output_type": "stream",
     "text": [
      "Saving kaggle.json to kaggle.json\n",
      "Dataset URL: https://www.kaggle.com/datasets/andrewmvd/leukemia-classification\n",
      "License(s): other\n"
     ]
    }
   ],
   "source": [
    "from google.colab import files\n",
    "files.upload()\n",
    "\n",
    "!mkdir -p ~/.kaggle\n",
    "!mv kaggle.json ~/.kaggle/\n",
    "\n",
    "!chmod 600 ~/.kaggle/kaggle.json\n",
    "\n",
    "!kaggle datasets download -d andrewmvd/leukemia-classification\n",
    "!unzip -q leukemia-classification.zip -d leukemia_data"
   ]
  },
  {
   "cell_type": "markdown",
   "id": "1933a148",
   "metadata": {
    "id": "1933a148"
   },
   "source": [
    "# Import Libraries\n",
    "Import all necessary libraries, including TensorFlow, NumPy, Matplotlib, and Scikit-learn."
   ]
  },
  {
   "cell_type": "code",
   "execution_count": 7,
   "id": "50a027fc",
   "metadata": {
    "id": "50a027fc"
   },
   "outputs": [],
   "source": [
    "# Import Libraries\n",
    "import os\n",
    "import numpy as np\n",
    "from tqdm import tqdm\n",
    "import matplotlib.pyplot as plt\n",
    "from sklearn.model_selection import train_test_split\n",
    "from sklearn.decomposition import PCA\n",
    "from sklearn.svm import SVC\n",
    "from sklearn.metrics import classification_report, confusion_matrix, accuracy_score\n",
    "\n",
    "from tensorflow.keras.preprocessing.image import load_img, img_to_array, ImageDataGenerator\n",
    "from tensorflow.keras.models import Model\n",
    "from tensorflow.keras.layers import Conv2D, MaxPooling2D, Flatten, Dense, Dropout, Input\n",
    "from tensorflow.keras.regularizers import l2\n",
    "from tensorflow.keras.callbacks import EarlyStopping"
   ]
  },
  {
   "cell_type": "markdown",
   "id": "523e8b48",
   "metadata": {
    "id": "523e8b48"
   },
   "source": [
    "# Load and Preprocess Dataset\n",
    "Define a function to load and preprocess the dataset, including resizing images and normalizing pixel values."
   ]
  },
  {
   "cell_type": "code",
   "execution_count": 12,
   "id": "eb50ad05",
   "metadata": {
    "colab": {
     "base_uri": "https://localhost:8080/"
    },
    "id": "eb50ad05",
    "outputId": "34747ca3-527f-4bc2-dde4-cee0a80ec48d"
   },
   "outputs": [
    {
     "name": "stderr",
     "output_type": "stream",
     "text": [
      "fold_0/all: 100%|██████████| 2397/2397 [00:11<00:00, 205.56it/s]\n",
      "fold_0/hem: 100%|██████████| 1130/1130 [00:05<00:00, 216.06it/s]\n",
      "fold_1/all: 100%|██████████| 2418/2418 [00:11<00:00, 209.65it/s]\n",
      "fold_1/hem: 100%|██████████| 1163/1163 [00:05<00:00, 196.82it/s]\n",
      "fold_2/all: 100%|██████████| 2457/2457 [00:11<00:00, 209.12it/s]\n",
      "fold_2/hem: 100%|██████████| 1096/1096 [00:05<00:00, 214.79it/s]\n"
     ]
    },
    {
     "name": "stdout",
     "output_type": "stream",
     "text": [
      "Loaded 10661 images. Shape: (10661, 64, 64, 1)\n"
     ]
    }
   ],
   "source": [
    "# Load and Preprocess Dataset\n",
    "IMAGE_SIZE = (64, 64)\n",
    "DATASET_PATH = \"/content/leukemia_data/C-NMC_Leukemia/training_data\"\n",
    "LABELS = {'hem': 0, 'all': 1}\n",
    "\n",
    "def load_dataset(dataset_path):\n",
    "    X, y = [], []\n",
    "    for fold in ['fold_0', 'fold_1', 'fold_2']:\n",
    "        fold_path = os.path.join(dataset_path, fold)\n",
    "        if not os.path.exists(fold_path):\n",
    "            continue\n",
    "        for label_folder in os.listdir(fold_path):\n",
    "            if label_folder not in LABELS:\n",
    "                continue\n",
    "            folder_path = os.path.join(fold_path, label_folder)\n",
    "            for file in tqdm(os.listdir(folder_path), desc=f\"{fold}/{label_folder}\"):\n",
    "                if not file.lower().endswith(\".bmp\"):\n",
    "                    continue\n",
    "                img = load_img(os.path.join(folder_path, file),\n",
    "                               target_size=IMAGE_SIZE,\n",
    "                               color_mode='grayscale')\n",
    "                img_array = img_to_array(img) / 255.0\n",
    "                X.append(img_array)\n",
    "                y.append(LABELS[label_folder])\n",
    "    return np.array(X), np.array(y)\n",
    "\n",
    "X, y = load_dataset(DATASET_PATH)\n",
    "print(f\"Loaded {len(X)} images. Shape: {X.shape}\")"
   ]
  },
  {
   "cell_type": "markdown",
   "id": "79469b37",
   "metadata": {
    "id": "79469b37"
   },
   "source": [
    "# Split Data into Train, Validation, and Test Sets\n",
    "Use train_test_split to divide the dataset into training, validation, and test sets."
   ]
  },
  {
   "cell_type": "code",
   "execution_count": 13,
   "id": "188e7a8d",
   "metadata": {
    "id": "188e7a8d"
   },
   "outputs": [],
   "source": [
    "# Split Data into Train, Validation, and Test Sets\n",
    "X_train, X_test, y_train, y_test = train_test_split(X, y, test_size=0.2, random_state=42)\n",
    "X_train, X_val, y_train, y_val = train_test_split(X_train, y_train, test_size=0.2, random_state=42)"
   ]
  },
  {
   "cell_type": "markdown",
   "id": "635ca5b5",
   "metadata": {
    "id": "635ca5b5"
   },
   "source": [
    "# Data Augmentation\n",
    "Set up ImageDataGenerator for training and validation data augmentation."
   ]
  },
  {
   "cell_type": "code",
   "execution_count": 14,
   "id": "83a8bef2",
   "metadata": {
    "id": "83a8bef2"
   },
   "outputs": [],
   "source": [
    "# Data Augmentation\n",
    "datagen_train = ImageDataGenerator(\n",
    "    rotation_range=10,\n",
    "    width_shift_range=0.1,\n",
    "    height_shift_range=0.1,\n",
    "    zoom_range=0.1,\n",
    "    horizontal_flip=True,\n",
    "    fill_mode='nearest'\n",
    ")\n",
    "datagen_train.fit(X_train)\n",
    "\n",
    "datagen_val = ImageDataGenerator()\n",
    "datagen_val.fit(X_val)"
   ]
  },
  {
   "cell_type": "markdown",
   "id": "f1d93a06",
   "metadata": {
    "id": "f1d93a06"
   },
   "source": [
    "# Build CNN Model\n",
    "Define the CNN architecture using Keras, including convolutional, pooling, dropout, and dense layers."
   ]
  },
  {
   "cell_type": "code",
   "execution_count": 15,
   "id": "82dd85c2",
   "metadata": {
    "id": "82dd85c2"
   },
   "outputs": [],
   "source": [
    "# Build CNN Model\n",
    "inputs = Input(shape=(64, 64, 1))\n",
    "x = Conv2D(32, (3, 3), activation='relu', kernel_regularizer=l2(0.001))(inputs)\n",
    "x = MaxPooling2D((2, 2))(x)\n",
    "x = Dropout(0.2)(x)\n",
    "\n",
    "x = Conv2D(64, (3, 3), activation='relu', kernel_regularizer=l2(0.001))(x)\n",
    "x = MaxPooling2D((2, 2))(x)\n",
    "x = Dropout(0.2)(x)\n",
    "\n",
    "x = Conv2D(64, (3, 3), activation='relu', kernel_regularizer=l2(0.001))(x)\n",
    "x = MaxPooling2D((2, 2))(x)\n",
    "x = Dropout(0.3)(x)\n",
    "\n",
    "x = Flatten()(x)\n",
    "x = Dense(256, activation='relu', kernel_regularizer=l2(0.001), name='feature_layer')(x)\n",
    "x = Dropout(0.4)(x)\n",
    "outputs = Dense(1, activation='sigmoid')(x)\n",
    "\n",
    "model = Model(inputs=inputs, outputs=outputs)\n",
    "model.compile(optimizer='adam', loss='binary_crossentropy', metrics=['accuracy'])"
   ]
  },
  {
   "cell_type": "markdown",
   "id": "1e44447d",
   "metadata": {
    "id": "1e44447d"
   },
   "source": [
    "# Train CNN Model\n",
    "Compile and train the CNN model using the training and validation datasets, with early stopping."
   ]
  },
  {
   "cell_type": "code",
   "execution_count": null,
   "id": "f1e76a1e",
   "metadata": {
    "colab": {
     "base_uri": "https://localhost:8080/"
    },
    "id": "f1e76a1e",
    "outputId": "8f1799c9-0db3-4814-a420-cb8bc7225a60"
   },
   "outputs": [
    {
     "name": "stdout",
     "output_type": "stream",
     "text": [
      "Epoch 1/50\n"
     ]
    },
    {
     "name": "stderr",
     "output_type": "stream",
     "text": [
      "/usr/local/lib/python3.11/dist-packages/keras/src/trainers/data_adapters/py_dataset_adapter.py:121: UserWarning: Your `PyDataset` class should call `super().__init__(**kwargs)` in its constructor. `**kwargs` can include `workers`, `use_multiprocessing`, `max_queue_size`. Do not pass these arguments to `fit()`, as they will be ignored.\n",
      "  self._warn_if_super_not_called()\n"
     ]
    },
    {
     "name": "stdout",
     "output_type": "stream",
     "text": [
      "\u001b[1m214/214\u001b[0m \u001b[32m━━━━━━━━━━━━━━━━━━━━\u001b[0m\u001b[37m\u001b[0m \u001b[1m50s\u001b[0m 220ms/step - accuracy: 0.7125 - loss: 0.7997 - val_accuracy: 0.7954 - val_loss: 0.5538\n",
      "Epoch 2/50\n"
     ]
    }
   ],
   "source": [
    "# Train CNN Model\n",
    "early_stop = EarlyStopping(monitor='val_loss', patience=7, restore_best_weights=True)\n",
    "\n",
    "history = model.fit(\n",
    "    datagen_train.flow(X_train, y_train, batch_size=32),\n",
    "    validation_data=datagen_val.flow(X_val, y_val, batch_size=32),\n",
    "    epochs=50,\n",
    "    callbacks=[early_stop],\n",
    "    verbose=1\n",
    ")"
   ]
  },
  {
   "cell_type": "markdown",
   "id": "0e932e89",
   "metadata": {
    "id": "0e932e89"
   },
   "source": [
    "# Feature Extraction for PCA and SVM\n",
    "Extract features from the trained CNN model's intermediate layer for use in PCA and SVM."
   ]
  },
  {
   "cell_type": "code",
   "execution_count": null,
   "id": "472606c2",
   "metadata": {
    "id": "472606c2"
   },
   "outputs": [],
   "source": [
    "# Feature Extraction for PCA and SVM\n",
    "feature_model = Model(inputs=model.input, outputs=model.get_layer('feature_layer').output)\n",
    "\n",
    "features_train = feature_model.predict(X_train)\n",
    "features_test = feature_model.predict(X_test)"
   ]
  },
  {
   "cell_type": "markdown",
   "id": "29b675a7",
   "metadata": {
    "id": "29b675a7"
   },
   "source": [
    "# Apply PCA\n",
    "Perform PCA on the extracted features to reduce dimensionality."
   ]
  },
  {
   "cell_type": "code",
   "execution_count": null,
   "id": "e9dcc623",
   "metadata": {
    "id": "e9dcc623"
   },
   "outputs": [],
   "source": [
    "# Apply PCA\n",
    "pca = PCA(n_components=50)\n",
    "X_train_pca = pca.fit_transform(features_train)\n",
    "X_test_pca = pca.transform(features_test)"
   ]
  },
  {
   "cell_type": "markdown",
   "id": "8600018d",
   "metadata": {
    "id": "8600018d"
   },
   "source": [
    "# Train and Evaluate SVM Classifier\n",
    "Train an SVM classifier on the PCA-transformed features and evaluate its performance on the test set."
   ]
  },
  {
   "cell_type": "code",
   "execution_count": null,
   "id": "57091e4e",
   "metadata": {
    "id": "57091e4e"
   },
   "outputs": [],
   "source": [
    "# Train and Evaluate SVM Classifier\n",
    "svm = SVC(kernel='rbf', C=1.0)\n",
    "svm.fit(X_train_pca, y_train)\n",
    "y_pred = svm.predict(X_test_pca)\n",
    "\n",
    "print(\"\\nConfusion Matrix:\")\n",
    "print(confusion_matrix(y_test, y_pred))\n",
    "\n",
    "print(\"\\nClassification Report:\")\n",
    "print(classification_report(y_test, y_pred, target_names=['hem', 'all']))\n",
    "\n",
    "print(f\"Test Accuracy (SVM on PCA):  {accuracy_score(y_test, y_pred) * 100:.2f}%\")"
   ]
  },
  {
   "cell_type": "markdown",
   "id": "641b785b",
   "metadata": {
    "id": "641b785b"
   },
   "source": [
    "# Plot Training and Validation Accuracy\n",
    "Plot the training and validation accuracy over epochs to visualize model performance."
   ]
  },
  {
   "cell_type": "code",
   "execution_count": null,
   "id": "784e1ab6",
   "metadata": {
    "id": "784e1ab6"
   },
   "outputs": [],
   "source": [
    "# Plot Training and Validation Accuracy\n",
    "plt.plot(history.history['accuracy'], label='Train')\n",
    "plt.plot(history.history['val_accuracy'], label='Val')\n",
    "plt.xlabel('Epochs')\n",
    "plt.ylabel('Accuracy')\n",
    "plt.title('CNN Training vs Validation Accuracy')\n",
    "plt.legend()\n",
    "plt.grid()\n",
    "plt.show()"
   ]
  }
 ],
 "metadata": {
  "colab": {
   "provenance": []
  },
  "kernelspec": {
   "display_name": "Python 3",
   "name": "python3"
  },
  "language_info": {
   "name": "python"
  }
 },
 "nbformat": 4,
 "nbformat_minor": 5
}
